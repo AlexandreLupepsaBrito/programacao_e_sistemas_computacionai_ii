{
 "cells": [
  {
   "cell_type": "markdown",
   "metadata": {},
   "source": [
    "## O Operador *In*\n",
    "\n",
    "Vamos imaginar que temos uma função em que verificamos se uma string está em outra. Por exemplo, \"a\" está na palavra banana? \"seed\" está na palavra banana?"
   ]
  },
  {
   "cell_type": "code",
   "execution_count": 1,
   "metadata": {},
   "outputs": [
    {
     "data": {
      "text/plain": [
       "True"
      ]
     },
     "execution_count": 1,
     "metadata": {},
     "output_type": "execute_result"
    }
   ],
   "source": [
    "# pra isso podemos fazer\n",
    "'a' in 'banana'"
   ]
  },
  {
   "cell_type": "code",
   "execution_count": 2,
   "metadata": {},
   "outputs": [
    {
     "data": {
      "text/plain": [
       "False"
      ]
     },
     "execution_count": 2,
     "metadata": {},
     "output_type": "execute_result"
    }
   ],
   "source": [
    "'seed' in 'banana'"
   ]
  },
  {
   "cell_type": "code",
   "execution_count": 4,
   "metadata": {},
   "outputs": [],
   "source": [
    "# Uma funcao que imprime \n",
    "def nas_duas(palavra1, palavra2):\n",
    "    for letra in palavra1:\n",
    "        if letra in palavra2:\n",
    "            print(letra)"
   ]
  },
  {
   "cell_type": "code",
   "execution_count": 5,
   "metadata": {},
   "outputs": [
    {
     "name": "stdout",
     "output_type": "stream",
     "text": [
      "e\n",
      "o\n"
     ]
    }
   ],
   "source": [
    "nas_duas(\"pedro\", \"jose\")"
   ]
  },
  {
   "cell_type": "markdown",
   "metadata": {},
   "source": [
    "## Uma lista é uma sequência\n",
    "\n",
    "Como Strings, uma lista é uma sequência de valores. Em uma String, os valores são caracteres, em uma lista, eles podem ser qualquer tipo. Os valores em uma lista são chamados **elementos** ou algumas vezes, **itens**. \n",
    "\n",
    "Existem diversas maneiras de  criar uma lista, por exemplo:\n",
    "\n",
    "```\n",
    "queijos = ['Cheddar', 'Edam', 'Gouda', 'Minas']\n",
    "numeros = [17, 23]\n",
    "vazia = []\n",
    "```"
   ]
  },
  {
   "cell_type": "code",
   "execution_count": 8,
   "metadata": {},
   "outputs": [],
   "source": [
    " queijos = ['Cheddar', 'Edam', 'Gouda', 'Minas']"
   ]
  },
  {
   "cell_type": "code",
   "execution_count": 9,
   "metadata": {},
   "outputs": [
    {
     "name": "stdout",
     "output_type": "stream",
     "text": [
      "Cheddar\n",
      "Edam\n",
      "Gouda\n",
      "Minas\n"
     ]
    }
   ],
   "source": [
    "for queijo in queijos:\n",
    "    print(queijo)"
   ]
  },
  {
   "cell_type": "code",
   "execution_count": 10,
   "metadata": {},
   "outputs": [],
   "source": [
    "numeros = [1, 3, 423, 21, 2354, 12]"
   ]
  },
  {
   "cell_type": "code",
   "execution_count": 11,
   "metadata": {},
   "outputs": [
    {
     "name": "stdout",
     "output_type": "stream",
     "text": [
      "2\n",
      "6\n",
      "846\n",
      "42\n",
      "4708\n",
      "24\n"
     ]
    }
   ],
   "source": [
    "for i in range(len(numeros)):\n",
    "    numeros[i] = numeros[i] * 2\n",
    "    print(numeros[i])"
   ]
  },
  {
   "cell_type": "code",
   "execution_count": null,
   "metadata": {},
   "outputs": [],
   "source": []
  }
 ],
 "metadata": {
  "kernelspec": {
   "display_name": "Python 3",
   "language": "python",
   "name": "python3"
  },
  "language_info": {
   "codemirror_mode": {
    "name": "ipython",
    "version": 3
   },
   "file_extension": ".py",
   "mimetype": "text/x-python",
   "name": "python",
   "nbconvert_exporter": "python",
   "pygments_lexer": "ipython3",
   "version": "3.11.4"
  },
  "orig_nbformat": 4
 },
 "nbformat": 4,
 "nbformat_minor": 2
}
